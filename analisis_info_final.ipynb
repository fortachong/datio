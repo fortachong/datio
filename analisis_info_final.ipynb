{
 "cells": [
  {
   "cell_type": "code",
   "execution_count": 1,
   "id": "6e623ba2",
   "metadata": {},
   "outputs": [],
   "source": [
    "import pandas as pd"
   ]
  },
  {
   "cell_type": "code",
   "execution_count": 6,
   "id": "ec20a3ce",
   "metadata": {},
   "outputs": [],
   "source": [
    "FILE1 = 'datio_scraper/data/limpieza/limpio.csv'\n",
    "FILE2 = 'datio_scraper/data/info_final/info_final.csv'\n",
    "d1 = pd.read_csv(FILE1)\n",
    "d2 = pd.read_csv(FILE2, sep='|')"
   ]
  },
  {
   "cell_type": "code",
   "execution_count": 11,
   "id": "ff49e1d1",
   "metadata": {},
   "outputs": [
    {
     "name": "stdout",
     "output_type": "stream",
     "text": [
      "<class 'pandas.core.frame.DataFrame'>\n",
      "RangeIndex: 1426 entries, 0 to 1425\n",
      "Data columns (total 20 columns):\n",
      " #   Column              Non-Null Count  Dtype  \n",
      "---  ------              --------------  -----  \n",
      " 0   Index               1426 non-null   int64  \n",
      " 1   codigo_1            1426 non-null   int64  \n",
      " 2   codigo_2            1426 non-null   int64  \n",
      " 3   idx_codigo          1426 non-null   int64  \n",
      " 4   id_establecimiento  1426 non-null   int64  \n",
      " 5   clee                1426 non-null   object \n",
      " 6   nom_estab           1426 non-null   object \n",
      " 7   raz_social          946 non-null    object \n",
      " 8   entidad             1426 non-null   object \n",
      " 9   municipio           1426 non-null   object \n",
      " 10  cod_postal          1401 non-null   float64\n",
      " 11  codigo_act          1426 non-null   int64  \n",
      " 12  nombre_act          1426 non-null   object \n",
      " 13  fecha_alta          1426 non-null   object \n",
      " 14  www                 305 non-null    object \n",
      " 15  latitud             1426 non-null   float64\n",
      " 16  longitud            1426 non-null   float64\n",
      " 17  per_ocu             1426 non-null   object \n",
      " 18  min_ocupacion       1426 non-null   int64  \n",
      " 19  max_ocupacion       1426 non-null   float64\n",
      "dtypes: float64(4), int64(7), object(9)\n",
      "memory usage: 222.9+ KB\n"
     ]
    }
   ],
   "source": [
    "d2.info()"
   ]
  },
  {
   "cell_type": "code",
   "execution_count": 12,
   "id": "0b66514d",
   "metadata": {},
   "outputs": [],
   "source": [
    "data = d1.merge(d2, on='Index')"
   ]
  },
  {
   "cell_type": "code",
   "execution_count": 16,
   "id": "56794529",
   "metadata": {},
   "outputs": [
    {
     "data": {
      "text/html": [
       "<div>\n",
       "<style scoped>\n",
       "    .dataframe tbody tr th:only-of-type {\n",
       "        vertical-align: middle;\n",
       "    }\n",
       "\n",
       "    .dataframe tbody tr th {\n",
       "        vertical-align: top;\n",
       "    }\n",
       "\n",
       "    .dataframe thead th {\n",
       "        text-align: right;\n",
       "    }\n",
       "</style>\n",
       "<table border=\"1\" class=\"dataframe\">\n",
       "  <thead>\n",
       "    <tr style=\"text-align: right;\">\n",
       "      <th></th>\n",
       "      <th>min_ocupacion</th>\n",
       "      <th>max_ocupacion</th>\n",
       "    </tr>\n",
       "  </thead>\n",
       "  <tbody>\n",
       "    <tr>\n",
       "      <th>count</th>\n",
       "      <td>1426.000000</td>\n",
       "      <td>1426.0</td>\n",
       "    </tr>\n",
       "    <tr>\n",
       "      <th>mean</th>\n",
       "      <td>11.464236</td>\n",
       "      <td>inf</td>\n",
       "    </tr>\n",
       "    <tr>\n",
       "      <th>std</th>\n",
       "      <td>31.388462</td>\n",
       "      <td>NaN</td>\n",
       "    </tr>\n",
       "    <tr>\n",
       "      <th>min</th>\n",
       "      <td>0.000000</td>\n",
       "      <td>5.0</td>\n",
       "    </tr>\n",
       "    <tr>\n",
       "      <th>25%</th>\n",
       "      <td>0.000000</td>\n",
       "      <td>5.0</td>\n",
       "    </tr>\n",
       "    <tr>\n",
       "      <th>50%</th>\n",
       "      <td>0.000000</td>\n",
       "      <td>5.0</td>\n",
       "    </tr>\n",
       "    <tr>\n",
       "      <th>75%</th>\n",
       "      <td>11.000000</td>\n",
       "      <td>30.0</td>\n",
       "    </tr>\n",
       "    <tr>\n",
       "      <th>max</th>\n",
       "      <td>251.000000</td>\n",
       "      <td>inf</td>\n",
       "    </tr>\n",
       "  </tbody>\n",
       "</table>\n",
       "</div>"
      ],
      "text/plain": [
       "       min_ocupacion  max_ocupacion\n",
       "count    1426.000000         1426.0\n",
       "mean       11.464236            inf\n",
       "std        31.388462            NaN\n",
       "min         0.000000            5.0\n",
       "25%         0.000000            5.0\n",
       "50%         0.000000            5.0\n",
       "75%        11.000000           30.0\n",
       "max       251.000000            inf"
      ]
     },
     "execution_count": 16,
     "metadata": {},
     "output_type": "execute_result"
    }
   ],
   "source": [
    "data[['min_ocupacion', 'max_ocupacion']].describe()"
   ]
  },
  {
   "cell_type": "code",
   "execution_count": null,
   "id": "394538e5",
   "metadata": {},
   "outputs": [],
   "source": []
  }
 ],
 "metadata": {
  "kernelspec": {
   "display_name": "Python 3 (ipykernel)",
   "language": "python",
   "name": "python3"
  },
  "language_info": {
   "codemirror_mode": {
    "name": "ipython",
    "version": 3
   },
   "file_extension": ".py",
   "mimetype": "text/x-python",
   "name": "python",
   "nbconvert_exporter": "python",
   "pygments_lexer": "ipython3",
   "version": "3.9.12"
  }
 },
 "nbformat": 4,
 "nbformat_minor": 5
}
