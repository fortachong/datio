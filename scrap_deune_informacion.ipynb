{
 "cells": [
  {
   "cell_type": "code",
   "execution_count": 131,
   "id": "5ec4103d",
   "metadata": {},
   "outputs": [],
   "source": [
    "import requests\n",
    "import json\n",
    "import pandas as pd\n",
    "import os\n",
    "from time import sleep"
   ]
  },
  {
   "cell_type": "code",
   "execution_count": 3,
   "id": "4cbfa5ff",
   "metadata": {},
   "outputs": [],
   "source": [
    "# Lee archivos de código\n",
    "FILE = 'codigos_0.csv'\n",
    "data = pd.read_csv(FILE)"
   ]
  },
  {
   "cell_type": "code",
   "execution_count": 4,
   "id": "f4843a0d",
   "metadata": {},
   "outputs": [
    {
     "data": {
      "text/html": [
       "<div>\n",
       "<style scoped>\n",
       "    .dataframe tbody tr th:only-of-type {\n",
       "        vertical-align: middle;\n",
       "    }\n",
       "\n",
       "    .dataframe tbody tr th {\n",
       "        vertical-align: top;\n",
       "    }\n",
       "\n",
       "    .dataframe thead th {\n",
       "        text-align: right;\n",
       "    }\n",
       "</style>\n",
       "<table border=\"1\" class=\"dataframe\">\n",
       "  <thead>\n",
       "    <tr style=\"text-align: right;\">\n",
       "      <th></th>\n",
       "      <th>Index</th>\n",
       "      <th>codigo_1</th>\n",
       "      <th>codigo_2</th>\n",
       "    </tr>\n",
       "  </thead>\n",
       "  <tbody>\n",
       "    <tr>\n",
       "      <th>0</th>\n",
       "      <td>0</td>\n",
       "      <td>1060688</td>\n",
       "      <td>433410</td>\n",
       "    </tr>\n",
       "    <tr>\n",
       "      <th>1</th>\n",
       "      <td>0</td>\n",
       "      <td>1060687</td>\n",
       "      <td>433410</td>\n",
       "    </tr>\n",
       "    <tr>\n",
       "      <th>2</th>\n",
       "      <td>0</td>\n",
       "      <td>1000521</td>\n",
       "      <td>465311</td>\n",
       "    </tr>\n",
       "    <tr>\n",
       "      <th>3</th>\n",
       "      <td>1</td>\n",
       "      <td>6155552</td>\n",
       "      <td>484129</td>\n",
       "    </tr>\n",
       "    <tr>\n",
       "      <th>4</th>\n",
       "      <td>2</td>\n",
       "      <td>2206001</td>\n",
       "      <td>326130</td>\n",
       "    </tr>\n",
       "    <tr>\n",
       "      <th>...</th>\n",
       "      <td>...</td>\n",
       "      <td>...</td>\n",
       "      <td>...</td>\n",
       "    </tr>\n",
       "    <tr>\n",
       "      <th>908</th>\n",
       "      <td>667</td>\n",
       "      <td>9040362</td>\n",
       "      <td>238222</td>\n",
       "    </tr>\n",
       "    <tr>\n",
       "      <th>909</th>\n",
       "      <td>667</td>\n",
       "      <td>8019443</td>\n",
       "      <td>435319</td>\n",
       "    </tr>\n",
       "    <tr>\n",
       "      <th>910</th>\n",
       "      <td>667</td>\n",
       "      <td>4136964</td>\n",
       "      <td>238222</td>\n",
       "    </tr>\n",
       "    <tr>\n",
       "      <th>911</th>\n",
       "      <td>667</td>\n",
       "      <td>6373691</td>\n",
       "      <td>466112</td>\n",
       "    </tr>\n",
       "    <tr>\n",
       "      <th>912</th>\n",
       "      <td>669</td>\n",
       "      <td>902904</td>\n",
       "      <td>541510</td>\n",
       "    </tr>\n",
       "  </tbody>\n",
       "</table>\n",
       "<p>913 rows × 3 columns</p>\n",
       "</div>"
      ],
      "text/plain": [
       "     Index   codigo_1   codigo_2\n",
       "0        0    1060688     433410\n",
       "1        0    1060687     433410\n",
       "2        0    1000521     465311\n",
       "3        1    6155552     484129\n",
       "4        2    2206001     326130\n",
       "..     ...        ...        ...\n",
       "908    667    9040362     238222\n",
       "909    667    8019443     435319\n",
       "910    667    4136964     238222\n",
       "911    667    6373691     466112\n",
       "912    669     902904     541510\n",
       "\n",
       "[913 rows x 3 columns]"
      ]
     },
     "execution_count": 4,
     "metadata": {},
     "output_type": "execute_result"
    }
   ],
   "source": [
    "data"
   ]
  },
  {
   "cell_type": "code",
   "execution_count": 75,
   "id": "33802c18",
   "metadata": {},
   "outputs": [],
   "source": [
    "def obtener_informacion(codigo_1, codigo_2):\n",
    "    url = 'https://www.inegi.org.mx/app/mapa/componente/APIGeografico/infowindowDenue/' + \\\n",
    "    str(codigo_1) + \\\n",
    "    '/DENUE/'+ \\\n",
    "    str(codigo_2)\n",
    "    respuesta = requests.get(url)\n",
    "    info = {}\n",
    "    r_ = respuesta.json()[0]\n",
    "    if respuesta is not None and \"d1\" in r_:\n",
    "        info = {\n",
    "            'id_establecimiento': r_['d1'],\n",
    "            'cve_ent': r_['d2'],\n",
    "            'entidad': r_['d3'],\n",
    "            'cve_mun': r_['d4'],\n",
    "            'municipio': r_['d5'],\n",
    "            'cve_loc': r_['d6'],\n",
    "            'localidad': r_['d7'],\n",
    "            'nom_estab': r_['d8'],\n",
    "            'raz_social': r_['d9'],\n",
    "            'codigo_act': r_['d11'],\n",
    "            'nombre_act': r_['d12'],\n",
    "            'per_ocu': r_['d14'],\n",
    "            'tipo_vial': r_['d15'],\n",
    "            'nom_vial': r_['d16'],\n",
    "            'numero_ext': r_['d17'],\n",
    "            'edificio': r_['d18'],\n",
    "            'numero_int': r_['d19'],\n",
    "            'tipo_asent': r_['d20'],\n",
    "            'nomb_asent': r_['d21'],\n",
    "            'nom_CenCom': r_['d22'],\n",
    "            'num_local': r_['d23'],\n",
    "            'cod_postal': r_['d24'],\n",
    "            'ageb': r_['d25'],\n",
    "            'manzana': r_['d26'],\n",
    "            'telefono': r_['d27'],\n",
    "            'correoelec': r_['d28'],\n",
    "            'www': r_['d30'],\n",
    "            'fecha_alta': r_['d33'],\n",
    "            'latitud': r_['d34'],\n",
    "            'longitud': r_['d35'],\n",
    "            'tipo_asent': r_['d57'],\n",
    "            'tipoCenCom': r_['d58'],\n",
    "            'tipo_v_e_1': r_['d61'],\n",
    "            'nom_v_e_1': r_['d62'],\n",
    "            'tipo_v_e_2': r_['d63'],\n",
    "            'nom_v_e_2': r_['d64'],\n",
    "            'tipo_v_e_3': r_['d65'],\n",
    "            'nom_v_e_3': r_['d66'],\n",
    "            'clee': r_['d68']\n",
    "        }\n",
    "    # print(info)\n",
    "    return info"
   ]
  },
  {
   "cell_type": "code",
   "execution_count": 76,
   "id": "37527f97",
   "metadata": {},
   "outputs": [],
   "source": [
    "info = obtener_informacion(1060688, 433410)"
   ]
  },
  {
   "cell_type": "code",
   "execution_count": 77,
   "id": "dc1a222e",
   "metadata": {},
   "outputs": [
    {
     "data": {
      "text/plain": [
       "(dict_keys(['id_establecimiento', 'cve_ent', 'entidad', 'cve_mun', 'municipio', 'cve_loc', 'localidad', 'nom_estab', 'raz_social', 'codigo_act', 'nombre_act', 'per_ocu', 'tipo_vial', 'nom_vial', 'numero_ext', 'edificio', 'numero_int', 'tipo_asent', 'nomb_asent', 'nom_CenCom', 'num_local', 'cod_postal', 'ageb', 'manzana', 'telefono', 'correoelec', 'www', 'fecha_alta', 'latitud', 'longitud', 'tipoCenCom', 'tipo_v_e_1', 'nom_v_e_1', 'tipo_v_e_2', 'nom_v_e_2', 'tipo_v_e_3', 'nom_v_e_3', 'clee']),\n",
       " dict_values(['1060688', '09', 'CIUDAD DE MÉXICO', '015', 'Cuauhtémoc', '0001', 'Cuauhtémoc', 'GRUPO OMEGA', 'CENTRO PAPELERO SUN RISE SA DE CV', '433410', 'Comercio al por mayor de artículos de papelería', '6 a 10 personas', 'CALLE', 'REGINA', '135', '', '', 'COLONIA', 'CENTRO (ÁREA 9)', '', '', '06090', '0907', '012', '5555221933', 'GPOSONRISE@HOTMAIL.COM', 'WWW.PAPELESOMEGA.COM', '2010-07', '19.42698643', '-99.13043878', '', 'CALLE', 'LAS CRUCES', 'CALLE', 'CORREO MAYOR', 'AVENIDA', 'SAN PABLO', '09015433410000011000051806S4']))"
      ]
     },
     "execution_count": 77,
     "metadata": {},
     "output_type": "execute_result"
    }
   ],
   "source": [
    "info.keys(), info.values()"
   ]
  },
  {
   "cell_type": "code",
   "execution_count": 133,
   "id": "121e2f04",
   "metadata": {},
   "outputs": [],
   "source": [
    "# Crear un dataset dado el archivo\n",
    "# Iterar para controlar los errores\n",
    "# Lee archivos de código\n",
    "FILE = 'codigos_672_c.csv'\n",
    "nombre_archivo = os.path.splitext(FILE)[0]\n",
    "data = pd.read_csv(FILE)\n",
    "data['idx_codigo'] = data.index"
   ]
  },
  {
   "cell_type": "code",
   "execution_count": 134,
   "id": "6ec491f5",
   "metadata": {},
   "outputs": [],
   "source": [
    "data_ = data[0:2].copy()"
   ]
  },
  {
   "cell_type": "code",
   "execution_count": 135,
   "id": "f8b04444",
   "metadata": {},
   "outputs": [
    {
     "name": "stdout",
     "output_type": "stream",
     "text": [
      "Archivo: codigos_672_c_info_0.csv\n",
      "Procesando idx_codigo: 0\n",
      "Procesando idx_codigo: 1\n",
      "CPU times: user 64.2 ms, sys: 0 ns, total: 64.2 ms\n",
      "Wall time: 1.31 s\n"
     ]
    }
   ],
   "source": [
    "%%time\n",
    "ultimo_error = 0\n",
    "max_intentos = 5\n",
    "conteo_intentos = 0\n",
    "\n",
    "while True:\n",
    "    try:\n",
    "        data__ = data_[ultimo_error:]\n",
    "        archivo = f\"{nombre_archivo}_info_{ultimo_error}.csv\"\n",
    "        print(f\"Archivo: {archivo}\")\n",
    "        i = 0\n",
    "        with open(archivo, 'w') as f:\n",
    "            for idx, row in data__.iterrows():\n",
    "                ultimo_error = idx\n",
    "                print(f\"Procesando idx_codigo: {row['idx_codigo']}\")\n",
    "                \n",
    "                info = obtener_informacion(int(row['codigo_1']), int(row['codigo_2']))\n",
    "                # print(info)\n",
    "                if info:\n",
    "                    if idx == 0:\n",
    "                        k_ = list(info.keys())\n",
    "                        st_ = \",\".join(k_)\n",
    "                        f.write(f\"{st_}\\n\")\n",
    "                    inf_ = info.values()\n",
    "                    st_ = \",\".join(inf_)\n",
    "                    f.write(f\"{st_}\\n\")\n",
    "        break\n",
    "    except:\n",
    "        \n",
    "        print(f\"Pausando Ejecución - Último Índice: {ultimo_error}\")\n",
    "        conteo_intentos += 1\n",
    "        if conteo_intentos >= max_intentos:\n",
    "            conteo_intentos = 0\n",
    "            con_errores.append(ultimo_error)\n",
    "            ultimo_error += 1\n",
    "        sleep(10)"
   ]
  },
  {
   "cell_type": "code",
   "execution_count": 244,
   "id": "c58d4408",
   "metadata": {},
   "outputs": [],
   "source": [
    "FILE = 'codigos_29908.csv'\n",
    "data = pd.read_csv(FILE)"
   ]
  },
  {
   "cell_type": "code",
   "execution_count": 245,
   "id": "57159c9f",
   "metadata": {},
   "outputs": [],
   "source": [
    "data.columns = ['Index', 'codigo_1', 'codigo_2']"
   ]
  },
  {
   "cell_type": "code",
   "execution_count": 246,
   "id": "26e52760",
   "metadata": {},
   "outputs": [],
   "source": [
    "data['codigo_1'] = data['codigo_1'].astype(int)\n",
    "data['codigo_2'] = data['codigo_2'].astype(int)"
   ]
  },
  {
   "cell_type": "code",
   "execution_count": 247,
   "id": "b87f2d9c",
   "metadata": {},
   "outputs": [
    {
     "data": {
      "text/html": [
       "<div>\n",
       "<style scoped>\n",
       "    .dataframe tbody tr th:only-of-type {\n",
       "        vertical-align: middle;\n",
       "    }\n",
       "\n",
       "    .dataframe tbody tr th {\n",
       "        vertical-align: top;\n",
       "    }\n",
       "\n",
       "    .dataframe thead th {\n",
       "        text-align: right;\n",
       "    }\n",
       "</style>\n",
       "<table border=\"1\" class=\"dataframe\">\n",
       "  <thead>\n",
       "    <tr style=\"text-align: right;\">\n",
       "      <th></th>\n",
       "      <th>Index</th>\n",
       "      <th>codigo_1</th>\n",
       "      <th>codigo_2</th>\n",
       "    </tr>\n",
       "  </thead>\n",
       "  <tbody>\n",
       "    <tr>\n",
       "      <th>0</th>\n",
       "      <td>29913</td>\n",
       "      <td>6706736</td>\n",
       "      <td>467117</td>\n",
       "    </tr>\n",
       "    <tr>\n",
       "      <th>1</th>\n",
       "      <td>29914</td>\n",
       "      <td>1507742</td>\n",
       "      <td>621491</td>\n",
       "    </tr>\n",
       "    <tr>\n",
       "      <th>2</th>\n",
       "      <td>29914</td>\n",
       "      <td>1432888</td>\n",
       "      <td>621491</td>\n",
       "    </tr>\n",
       "    <tr>\n",
       "      <th>3</th>\n",
       "      <td>29914</td>\n",
       "      <td>8512828</td>\n",
       "      <td>621491</td>\n",
       "    </tr>\n",
       "    <tr>\n",
       "      <th>4</th>\n",
       "      <td>29917</td>\n",
       "      <td>6263039</td>\n",
       "      <td>468411</td>\n",
       "    </tr>\n",
       "    <tr>\n",
       "      <th>...</th>\n",
       "      <td>...</td>\n",
       "      <td>...</td>\n",
       "      <td>...</td>\n",
       "    </tr>\n",
       "    <tr>\n",
       "      <th>4862</th>\n",
       "      <td>32613</td>\n",
       "      <td>70522</td>\n",
       "      <td>435220</td>\n",
       "    </tr>\n",
       "    <tr>\n",
       "      <th>4863</th>\n",
       "      <td>32614</td>\n",
       "      <td>6376755</td>\n",
       "      <td>431110</td>\n",
       "    </tr>\n",
       "    <tr>\n",
       "      <th>4864</th>\n",
       "      <td>32614</td>\n",
       "      <td>6464305</td>\n",
       "      <td>541941</td>\n",
       "    </tr>\n",
       "    <tr>\n",
       "      <th>4865</th>\n",
       "      <td>32617</td>\n",
       "      <td>6156292</td>\n",
       "      <td>485111</td>\n",
       "    </tr>\n",
       "    <tr>\n",
       "      <th>4866</th>\n",
       "      <td>32617</td>\n",
       "      <td>1252702</td>\n",
       "      <td>485111</td>\n",
       "    </tr>\n",
       "  </tbody>\n",
       "</table>\n",
       "<p>4867 rows × 3 columns</p>\n",
       "</div>"
      ],
      "text/plain": [
       "      Index  codigo_1  codigo_2\n",
       "0     29913   6706736    467117\n",
       "1     29914   1507742    621491\n",
       "2     29914   1432888    621491\n",
       "3     29914   8512828    621491\n",
       "4     29917   6263039    468411\n",
       "...     ...       ...       ...\n",
       "4862  32613     70522    435220\n",
       "4863  32614   6376755    431110\n",
       "4864  32614   6464305    541941\n",
       "4865  32617   6156292    485111\n",
       "4866  32617   1252702    485111\n",
       "\n",
       "[4867 rows x 3 columns]"
      ]
     },
     "execution_count": 247,
     "metadata": {},
     "output_type": "execute_result"
    }
   ],
   "source": [
    "data"
   ]
  },
  {
   "cell_type": "code",
   "execution_count": 248,
   "id": "2a8ae789",
   "metadata": {},
   "outputs": [],
   "source": [
    "data.to_csv('codigos_29908_c.csv', index=False)"
   ]
  },
  {
   "cell_type": "code",
   "execution_count": 249,
   "id": "f6f8bbee",
   "metadata": {},
   "outputs": [
    {
     "name": "stdout",
     "output_type": "stream",
     "text": [
      "<class 'pandas.core.frame.DataFrame'>\n",
      "RangeIndex: 4867 entries, 0 to 4866\n",
      "Data columns (total 3 columns):\n",
      " #   Column    Non-Null Count  Dtype\n",
      "---  ------    --------------  -----\n",
      " 0   Index     4867 non-null   int64\n",
      " 1   codigo_1  4867 non-null   int64\n",
      " 2   codigo_2  4867 non-null   int64\n",
      "dtypes: int64(3)\n",
      "memory usage: 114.2 KB\n"
     ]
    }
   ],
   "source": [
    "data.info()"
   ]
  },
  {
   "cell_type": "code",
   "execution_count": null,
   "id": "d4341886",
   "metadata": {},
   "outputs": [],
   "source": []
  }
 ],
 "metadata": {
  "kernelspec": {
   "display_name": "Python 3 (ipykernel)",
   "language": "python",
   "name": "python3"
  },
  "language_info": {
   "codemirror_mode": {
    "name": "ipython",
    "version": 3
   },
   "file_extension": ".py",
   "mimetype": "text/x-python",
   "name": "python",
   "nbconvert_exporter": "python",
   "pygments_lexer": "ipython3",
   "version": "3.9.12"
  }
 },
 "nbformat": 4,
 "nbformat_minor": 5
}
