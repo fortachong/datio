{
 "cells": [
  {
   "cell_type": "code",
   "execution_count": 2,
   "id": "afc97dcf",
   "metadata": {},
   "outputs": [],
   "source": [
    "import requests\n",
    "import json\n",
    "import pandas as pd\n",
    "from time import sleep"
   ]
  },
  {
   "cell_type": "code",
   "execution_count": 3,
   "id": "dd1f11c5",
   "metadata": {},
   "outputs": [],
   "source": [
    "# Lee archivos de código\n",
    "FILE = 'codigos_0.csv'\n",
    "data = pd.read_csv(FILE)"
   ]
  },
  {
   "cell_type": "code",
   "execution_count": 4,
   "id": "5cdcdd54",
   "metadata": {},
   "outputs": [
    {
     "data": {
      "text/html": [
       "<div>\n",
       "<style scoped>\n",
       "    .dataframe tbody tr th:only-of-type {\n",
       "        vertical-align: middle;\n",
       "    }\n",
       "\n",
       "    .dataframe tbody tr th {\n",
       "        vertical-align: top;\n",
       "    }\n",
       "\n",
       "    .dataframe thead th {\n",
       "        text-align: right;\n",
       "    }\n",
       "</style>\n",
       "<table border=\"1\" class=\"dataframe\">\n",
       "  <thead>\n",
       "    <tr style=\"text-align: right;\">\n",
       "      <th></th>\n",
       "      <th>Index</th>\n",
       "      <th>codigo_1</th>\n",
       "      <th>codigo_2</th>\n",
       "    </tr>\n",
       "  </thead>\n",
       "  <tbody>\n",
       "    <tr>\n",
       "      <th>0</th>\n",
       "      <td>0</td>\n",
       "      <td>1060688</td>\n",
       "      <td>433410</td>\n",
       "    </tr>\n",
       "    <tr>\n",
       "      <th>1</th>\n",
       "      <td>0</td>\n",
       "      <td>1060687</td>\n",
       "      <td>433410</td>\n",
       "    </tr>\n",
       "    <tr>\n",
       "      <th>2</th>\n",
       "      <td>0</td>\n",
       "      <td>1000521</td>\n",
       "      <td>465311</td>\n",
       "    </tr>\n",
       "    <tr>\n",
       "      <th>3</th>\n",
       "      <td>1</td>\n",
       "      <td>6155552</td>\n",
       "      <td>484129</td>\n",
       "    </tr>\n",
       "    <tr>\n",
       "      <th>4</th>\n",
       "      <td>2</td>\n",
       "      <td>2206001</td>\n",
       "      <td>326130</td>\n",
       "    </tr>\n",
       "    <tr>\n",
       "      <th>...</th>\n",
       "      <td>...</td>\n",
       "      <td>...</td>\n",
       "      <td>...</td>\n",
       "    </tr>\n",
       "    <tr>\n",
       "      <th>908</th>\n",
       "      <td>667</td>\n",
       "      <td>9040362</td>\n",
       "      <td>238222</td>\n",
       "    </tr>\n",
       "    <tr>\n",
       "      <th>909</th>\n",
       "      <td>667</td>\n",
       "      <td>8019443</td>\n",
       "      <td>435319</td>\n",
       "    </tr>\n",
       "    <tr>\n",
       "      <th>910</th>\n",
       "      <td>667</td>\n",
       "      <td>4136964</td>\n",
       "      <td>238222</td>\n",
       "    </tr>\n",
       "    <tr>\n",
       "      <th>911</th>\n",
       "      <td>667</td>\n",
       "      <td>6373691</td>\n",
       "      <td>466112</td>\n",
       "    </tr>\n",
       "    <tr>\n",
       "      <th>912</th>\n",
       "      <td>669</td>\n",
       "      <td>902904</td>\n",
       "      <td>541510</td>\n",
       "    </tr>\n",
       "  </tbody>\n",
       "</table>\n",
       "<p>913 rows × 3 columns</p>\n",
       "</div>"
      ],
      "text/plain": [
       "     Index   codigo_1   codigo_2\n",
       "0        0    1060688     433410\n",
       "1        0    1060687     433410\n",
       "2        0    1000521     465311\n",
       "3        1    6155552     484129\n",
       "4        2    2206001     326130\n",
       "..     ...        ...        ...\n",
       "908    667    9040362     238222\n",
       "909    667    8019443     435319\n",
       "910    667    4136964     238222\n",
       "911    667    6373691     466112\n",
       "912    669     902904     541510\n",
       "\n",
       "[913 rows x 3 columns]"
      ]
     },
     "execution_count": 4,
     "metadata": {},
     "output_type": "execute_result"
    }
   ],
   "source": [
    "data"
   ]
  },
  {
   "cell_type": "code",
   "execution_count": 9,
   "id": "3fb72af0",
   "metadata": {},
   "outputs": [],
   "source": [
    "def obtener_informacion(codigo_1, codigo_2):\n",
    "    url = 'https://www.inegi.org.mx/app/mapa/componente/APIGeografico/infowindowDenue/' + \\\n",
    "    str(codigo_1) + \\\n",
    "    '/DENUE/'+ \\\n",
    "    str(codigo_2)\n",
    "    respuesta = requests.get(url)\n",
    "    info = {}\n",
    "    r_ = respuesta.json()\n",
    "    if 'd1' in r_:\n",
    "        \n",
    "    print(respuesta.json())"
   ]
  },
  {
   "cell_type": "code",
   "execution_count": 10,
   "id": "5524994c",
   "metadata": {},
   "outputs": [
    {
     "name": "stdout",
     "output_type": "stream",
     "text": [
      "[{'d1': '1060688', 'd2': '09', 'd3': 'CIUDAD DE MÉXICO', 'd4': '015', 'd5': 'Cuauhtémoc', 'd6': '0001', 'd7': 'Cuauhtémoc', 'd8': 'GRUPO OMEGA', 'd9': 'CENTRO PAPELERO SUN RISE SA DE CV', 'd10': '', 'd11': '433410', 'd12': 'Comercio al por mayor de artículos de papelería', 'd13': '2', 'd14': '6 a 10 personas', 'd15': 'CALLE', 'd16': 'REGINA', 'd17': '135', 'd18': '', 'd19': '', 'd20': 'COLONIA', 'd21': 'CENTRO (ÁREA 9)', 'd22': '', 'd23': '', 'd24': '06090', 'd25': '0907', 'd26': '012', 'd27': '5555221933', 'd28': 'GPOSONRISE@HOTMAIL.COM', 'd29': '1', 'd30': 'WWW.PAPELESOMEGA.COM', 'd31': '', 'd32': '0', 'd33': '2010-07', 'd34': '19.42698643', 'd35': '-99.13043878', 'd36': '', 'd37': '', 'd38': '', 'd39': '', 'd40': '', 'd41': '', 'd42': '', 'd43': '', 'd44': '', 'd45': '', 'd46': '', 'd47': '', 'd48': '', 'd49': '', 'd50': '', 'd51': '', 'd52': '', 'd53': '', 'd54': '', 'd55': '', 'd56': '', 'd57': 'COLONIA', 'd58': '', 'd59': '', 'd60': '', 'd61': 'CALLE', 'd62': 'LAS CRUCES', 'd63': 'CALLE', 'd64': 'CORREO MAYOR', 'd65': 'AVENIDA', 'd66': 'SAN PABLO', 'd67': '', 'd68': '09015433410000011000051806S4'}]\n"
     ]
    }
   ],
   "source": [
    "obtener_informacion(1060688, 433410)"
   ]
  },
  {
   "cell_type": "code",
   "execution_count": null,
   "id": "f2312b33",
   "metadata": {},
   "outputs": [],
   "source": []
  }
 ],
 "metadata": {
  "kernelspec": {
   "display_name": "Python 3 (ipykernel)",
   "language": "python",
   "name": "python3"
  },
  "language_info": {
   "codemirror_mode": {
    "name": "ipython",
    "version": 3
   },
   "file_extension": ".py",
   "mimetype": "text/x-python",
   "name": "python",
   "nbconvert_exporter": "python",
   "pygments_lexer": "ipython3",
   "version": "3.9.12"
  }
 },
 "nbformat": 4,
 "nbformat_minor": 5
}
