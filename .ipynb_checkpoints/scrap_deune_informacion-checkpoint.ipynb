{
 "cells": [
  {
   "cell_type": "code",
   "execution_count": 2,
   "id": "4644988e",
   "metadata": {},
   "outputs": [],
   "source": [
    "import requests\n",
    "import json\n",
    "import pandas as pd\n",
    "from time import sleep"
   ]
  },
  {
   "cell_type": "code",
   "execution_count": 3,
   "id": "edbbe289",
   "metadata": {},
   "outputs": [],
   "source": [
    "# Lee archivos de código\n",
    "FILE = 'codigos_0.csv'\n",
    "data = pd.read_csv(FILE)"
   ]
  },
  {
   "cell_type": "code",
   "execution_count": 4,
   "id": "e8069abe",
   "metadata": {},
   "outputs": [
    {
     "data": {
      "text/html": [
       "<div>\n",
       "<style scoped>\n",
       "    .dataframe tbody tr th:only-of-type {\n",
       "        vertical-align: middle;\n",
       "    }\n",
       "\n",
       "    .dataframe tbody tr th {\n",
       "        vertical-align: top;\n",
       "    }\n",
       "\n",
       "    .dataframe thead th {\n",
       "        text-align: right;\n",
       "    }\n",
       "</style>\n",
       "<table border=\"1\" class=\"dataframe\">\n",
       "  <thead>\n",
       "    <tr style=\"text-align: right;\">\n",
       "      <th></th>\n",
       "      <th>Index</th>\n",
       "      <th>codigo_1</th>\n",
       "      <th>codigo_2</th>\n",
       "    </tr>\n",
       "  </thead>\n",
       "  <tbody>\n",
       "    <tr>\n",
       "      <th>0</th>\n",
       "      <td>0</td>\n",
       "      <td>1060688</td>\n",
       "      <td>433410</td>\n",
       "    </tr>\n",
       "    <tr>\n",
       "      <th>1</th>\n",
       "      <td>0</td>\n",
       "      <td>1060687</td>\n",
       "      <td>433410</td>\n",
       "    </tr>\n",
       "    <tr>\n",
       "      <th>2</th>\n",
       "      <td>0</td>\n",
       "      <td>1000521</td>\n",
       "      <td>465311</td>\n",
       "    </tr>\n",
       "    <tr>\n",
       "      <th>3</th>\n",
       "      <td>1</td>\n",
       "      <td>6155552</td>\n",
       "      <td>484129</td>\n",
       "    </tr>\n",
       "    <tr>\n",
       "      <th>4</th>\n",
       "      <td>2</td>\n",
       "      <td>2206001</td>\n",
       "      <td>326130</td>\n",
       "    </tr>\n",
       "    <tr>\n",
       "      <th>...</th>\n",
       "      <td>...</td>\n",
       "      <td>...</td>\n",
       "      <td>...</td>\n",
       "    </tr>\n",
       "    <tr>\n",
       "      <th>908</th>\n",
       "      <td>667</td>\n",
       "      <td>9040362</td>\n",
       "      <td>238222</td>\n",
       "    </tr>\n",
       "    <tr>\n",
       "      <th>909</th>\n",
       "      <td>667</td>\n",
       "      <td>8019443</td>\n",
       "      <td>435319</td>\n",
       "    </tr>\n",
       "    <tr>\n",
       "      <th>910</th>\n",
       "      <td>667</td>\n",
       "      <td>4136964</td>\n",
       "      <td>238222</td>\n",
       "    </tr>\n",
       "    <tr>\n",
       "      <th>911</th>\n",
       "      <td>667</td>\n",
       "      <td>6373691</td>\n",
       "      <td>466112</td>\n",
       "    </tr>\n",
       "    <tr>\n",
       "      <th>912</th>\n",
       "      <td>669</td>\n",
       "      <td>902904</td>\n",
       "      <td>541510</td>\n",
       "    </tr>\n",
       "  </tbody>\n",
       "</table>\n",
       "<p>913 rows × 3 columns</p>\n",
       "</div>"
      ],
      "text/plain": [
       "     Index   codigo_1   codigo_2\n",
       "0        0    1060688     433410\n",
       "1        0    1060687     433410\n",
       "2        0    1000521     465311\n",
       "3        1    6155552     484129\n",
       "4        2    2206001     326130\n",
       "..     ...        ...        ...\n",
       "908    667    9040362     238222\n",
       "909    667    8019443     435319\n",
       "910    667    4136964     238222\n",
       "911    667    6373691     466112\n",
       "912    669     902904     541510\n",
       "\n",
       "[913 rows x 3 columns]"
      ]
     },
     "execution_count": 4,
     "metadata": {},
     "output_type": "execute_result"
    }
   ],
   "source": [
    "data"
   ]
  },
  {
   "cell_type": "code",
   "execution_count": 75,
   "id": "45b796e5",
   "metadata": {},
   "outputs": [],
   "source": [
    "def obtener_informacion(codigo_1, codigo_2):\n",
    "    url = 'https://www.inegi.org.mx/app/mapa/componente/APIGeografico/infowindowDenue/' + \\\n",
    "    str(codigo_1) + \\\n",
    "    '/DENUE/'+ \\\n",
    "    str(codigo_2)\n",
    "    respuesta = requests.get(url)\n",
    "    info = {}\n",
    "    r_ = respuesta.json()[0]\n",
    "    if respuesta is not None and \"d1\" in r_:\n",
    "        info = {\n",
    "            'id_establecimiento': r_['d1'],\n",
    "            'cve_ent': r_['d2'],\n",
    "            'entidad': r_['d3'],\n",
    "            'cve_mun': r_['d4'],\n",
    "            'municipio': r_['d5'],\n",
    "            'cve_loc': r_['d6'],\n",
    "            'localidad': r_['d7'],\n",
    "            'nom_estab': r_['d8'],\n",
    "            'raz_social': r_['d9'],\n",
    "            'codigo_act': r_['d11'],\n",
    "            'nombre_act': r_['d12'],\n",
    "            'per_ocu': r_['d14'],\n",
    "            'tipo_vial': r_['d15'],\n",
    "            'nom_vial': r_['d16'],\n",
    "            'numero_ext': r_['d17'],\n",
    "            'edificio': r_['d18'],\n",
    "            'numero_int': r_['d19'],\n",
    "            'tipo_asent': r_['d20'],\n",
    "            'nomb_asent': r_['d21'],\n",
    "            'nom_CenCom': r_['d22'],\n",
    "            'num_local': r_['d23'],\n",
    "            'cod_postal': r_['d24'],\n",
    "            'ageb': r_['d25'],\n",
    "            'manzana': r_['d26'],\n",
    "            'telefono': r_['d27'],\n",
    "            'correoelec': r_['d28'],\n",
    "            'www': r_['d30'],\n",
    "            'fecha_alta': r_['d33'],\n",
    "            'latitud': r_['d34'],\n",
    "            'longitud': r_['d35'],\n",
    "            'tipo_asent': r_['d57'],\n",
    "            'tipoCenCom': r_['d58'],\n",
    "            'tipo_v_e_1': r_['d61'],\n",
    "            'nom_v_e_1': r_['d62'],\n",
    "            'tipo_v_e_2': r_['d63'],\n",
    "            'nom_v_e_2': r_['d64'],\n",
    "            'tipo_v_e_3': r_['d65'],\n",
    "            'nom_v_e_3': r_['d66'],\n",
    "            'clee': r_['d68']\n",
    "        }\n",
    "    # print(info)\n",
    "    return info"
   ]
  },
  {
   "cell_type": "code",
   "execution_count": 76,
   "id": "00d12990",
   "metadata": {},
   "outputs": [],
   "source": [
    "info = obtener_informacion(1060688, 433410)"
   ]
  },
  {
   "cell_type": "code",
   "execution_count": 77,
   "id": "bf961d39",
   "metadata": {},
   "outputs": [
    {
     "data": {
      "text/plain": [
       "(dict_keys(['id_establecimiento', 'cve_ent', 'entidad', 'cve_mun', 'municipio', 'cve_loc', 'localidad', 'nom_estab', 'raz_social', 'codigo_act', 'nombre_act', 'per_ocu', 'tipo_vial', 'nom_vial', 'numero_ext', 'edificio', 'numero_int', 'tipo_asent', 'nomb_asent', 'nom_CenCom', 'num_local', 'cod_postal', 'ageb', 'manzana', 'telefono', 'correoelec', 'www', 'fecha_alta', 'latitud', 'longitud', 'tipoCenCom', 'tipo_v_e_1', 'nom_v_e_1', 'tipo_v_e_2', 'nom_v_e_2', 'tipo_v_e_3', 'nom_v_e_3', 'clee']),\n",
       " dict_values(['1060688', '09', 'CIUDAD DE MÉXICO', '015', 'Cuauhtémoc', '0001', 'Cuauhtémoc', 'GRUPO OMEGA', 'CENTRO PAPELERO SUN RISE SA DE CV', '433410', 'Comercio al por mayor de artículos de papelería', '6 a 10 personas', 'CALLE', 'REGINA', '135', '', '', 'COLONIA', 'CENTRO (ÁREA 9)', '', '', '06090', '0907', '012', '5555221933', 'GPOSONRISE@HOTMAIL.COM', 'WWW.PAPELESOMEGA.COM', '2010-07', '19.42698643', '-99.13043878', '', 'CALLE', 'LAS CRUCES', 'CALLE', 'CORREO MAYOR', 'AVENIDA', 'SAN PABLO', '09015433410000011000051806S4']))"
      ]
     },
     "execution_count": 77,
     "metadata": {},
     "output_type": "execute_result"
    }
   ],
   "source": [
    "info.keys(), info.values()"
   ]
  },
  {
   "cell_type": "code",
   "execution_count": 78,
   "id": "e4002000",
   "metadata": {},
   "outputs": [
    {
     "name": "stderr",
     "output_type": "stream",
     "text": [
      "/tmp/ipykernel_313043/1461333181.py:5: ParserWarning: Falling back to the 'python' engine because the 'c' engine does not support regex separators (separators > 1 char and different from '\\s+' are interpreted as regex); you can avoid this warning by specifying engine='python'.\n",
      "  data = pd.read_csv(FILE, sep=', ')\n"
     ]
    }
   ],
   "source": [
    "# Crear un dataset dado el archivo\n",
    "# Iterar para controlar los errores\n",
    "# Lee archivos de código\n",
    "FILE = 'codigos_0.csv'\n",
    "data = pd.read_csv(FILE, sep=', ')\n",
    "data['idx_codigo'] = data.index"
   ]
  },
  {
   "cell_type": "code",
   "execution_count": 83,
   "id": "306e9440",
   "metadata": {},
   "outputs": [],
   "source": [
    "data_ = data.copy()"
   ]
  },
  {
   "cell_type": "code",
   "execution_count": 82,
   "id": "67b91cf2",
   "metadata": {},
   "outputs": [
    {
     "name": "stdout",
     "output_type": "stream",
     "text": [
      "Archivo: info_0.csv\n",
      "Procesando idx_codigo: 0\n",
      "Procesando idx_codigo: 1\n"
     ]
    }
   ],
   "source": [
    "ultimo_error = 0\n",
    "max_intentos = 5\n",
    "conteo_intentos = 0\n",
    "\n",
    "while True:\n",
    "    try:\n",
    "        data__ = data_[ultimo_error:]\n",
    "        archivo = f\"info_{ultimo_error}.csv\"\n",
    "        print(f\"Archivo: {archivo}\")\n",
    "        i = 0\n",
    "        with open(archivo, 'w') as f:\n",
    "            for idx, row in data__.iterrows():\n",
    "                ultimo_error = idx\n",
    "                print(f\"Procesando idx_codigo: {row['idx_codigo']}\")\n",
    "                \n",
    "                info = obtener_informacion(int(row['codigo_1']), int(row['codigo_2']))\n",
    "                # print(info)\n",
    "                if info:\n",
    "                    if idx == 0:\n",
    "                        k_ = list(info.keys())\n",
    "                        st_ = \",\".join(k_)\n",
    "                        f.write(f\"{st_}\\n\")\n",
    "                    inf_ = info.values()\n",
    "                    st_ = \",\".join(inf_)\n",
    "                    f.write(f\"{st_}\\n\")\n",
    "        break\n",
    "    except:\n",
    "        \n",
    "        print(f\"Pausando Ejecución - Último Índice: {ultimo_error}\")\n",
    "        conteo_intentos += 1\n",
    "        if conteo_intentos >= max_intentos:\n",
    "            conteo_intentos = 0\n",
    "            con_errores.append(ultimo_error)\n",
    "            ultimo_error += 1\n",
    "        sleep(10)"
   ]
  },
  {
   "cell_type": "code",
   "execution_count": null,
   "id": "236ca0ce",
   "metadata": {},
   "outputs": [],
   "source": []
  },
  {
   "cell_type": "code",
   "execution_count": null,
   "id": "620a9931",
   "metadata": {},
   "outputs": [],
   "source": []
  }
 ],
 "metadata": {
  "kernelspec": {
   "display_name": "Python 3 (ipykernel)",
   "language": "python",
   "name": "python3"
  },
  "language_info": {
   "codemirror_mode": {
    "name": "ipython",
    "version": 3
   },
   "file_extension": ".py",
   "mimetype": "text/x-python",
   "name": "python",
   "nbconvert_exporter": "python",
   "pygments_lexer": "ipython3",
   "version": "3.9.12"
  }
 },
 "nbformat": 4,
 "nbformat_minor": 5
}
